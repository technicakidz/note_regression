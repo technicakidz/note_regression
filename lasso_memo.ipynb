{
 "cells": [
  {
   "cell_type": "markdown",
   "metadata": {},
   "source": [
    "# lasso回帰"
   ]
  },
  {
   "cell_type": "markdown",
   "metadata": {},
   "source": [
    "## ダミーデータのセット"
   ]
  },
  {
   "cell_type": "code",
   "execution_count": 1,
   "metadata": {},
   "outputs": [
    {
     "data": {
      "text/html": [
       "<div>\n",
       "<style>\n",
       "    .dataframe thead tr:only-child th {\n",
       "        text-align: right;\n",
       "    }\n",
       "\n",
       "    .dataframe thead th {\n",
       "        text-align: left;\n",
       "    }\n",
       "\n",
       "    .dataframe tbody tr th {\n",
       "        vertical-align: top;\n",
       "    }\n",
       "</style>\n",
       "<table border=\"1\" class=\"dataframe\">\n",
       "  <thead>\n",
       "    <tr style=\"text-align: right;\">\n",
       "      <th></th>\n",
       "      <th>yyyymm</th>\n",
       "      <th>var1</th>\n",
       "      <th>var2</th>\n",
       "      <th>var3</th>\n",
       "      <th>var4</th>\n",
       "      <th>var5</th>\n",
       "    </tr>\n",
       "  </thead>\n",
       "  <tbody>\n",
       "    <tr>\n",
       "      <th>0</th>\n",
       "      <td>201301</td>\n",
       "      <td>89.1</td>\n",
       "      <td>89.1</td>\n",
       "      <td>98.3</td>\n",
       "      <td>101.3</td>\n",
       "      <td>101.7</td>\n",
       "    </tr>\n",
       "    <tr>\n",
       "      <th>1</th>\n",
       "      <td>201302</td>\n",
       "      <td>94.0</td>\n",
       "      <td>93.9</td>\n",
       "      <td>96.4</td>\n",
       "      <td>97.1</td>\n",
       "      <td>94.8</td>\n",
       "    </tr>\n",
       "    <tr>\n",
       "      <th>2</th>\n",
       "      <td>201303</td>\n",
       "      <td>105.6</td>\n",
       "      <td>105.6</td>\n",
       "      <td>106.4</td>\n",
       "      <td>109.3</td>\n",
       "      <td>107.6</td>\n",
       "    </tr>\n",
       "    <tr>\n",
       "      <th>3</th>\n",
       "      <td>201304</td>\n",
       "      <td>96.3</td>\n",
       "      <td>96.3</td>\n",
       "      <td>102.0</td>\n",
       "      <td>103.9</td>\n",
       "      <td>103.9</td>\n",
       "    </tr>\n",
       "    <tr>\n",
       "      <th>4</th>\n",
       "      <td>201305</td>\n",
       "      <td>95.8</td>\n",
       "      <td>95.8</td>\n",
       "      <td>103.8</td>\n",
       "      <td>107.1</td>\n",
       "      <td>109.3</td>\n",
       "    </tr>\n",
       "  </tbody>\n",
       "</table>\n",
       "</div>"
      ],
      "text/plain": [
       "   yyyymm   var1   var2   var3   var4   var5\n",
       "0  201301   89.1   89.1   98.3  101.3  101.7\n",
       "1  201302   94.0   93.9   96.4   97.1   94.8\n",
       "2  201303  105.6  105.6  106.4  109.3  107.6\n",
       "3  201304   96.3   96.3  102.0  103.9  103.9\n",
       "4  201305   95.8   95.8  103.8  107.1  109.3"
      ]
     },
     "execution_count": 1,
     "metadata": {},
     "output_type": "execute_result"
    }
   ],
   "source": [
    "import csv\n",
    "import pandas as pd\n",
    "\n",
    "data = pd.read_csv(\"dummy_data.csv\")\n",
    "data[:5]"
   ]
  },
  {
   "cell_type": "markdown",
   "metadata": {},
   "source": [
    "まずデータの全貌を知ろう．  \n",
    "使えそうな方法は以下を参考にする．  \n",
    "\n",
    "https://note.nkmk.me/python-pandas-len-shape-size/\n",
    "\n",
    "```\n",
    "pandas.DataFrame\n",
    "行数・列数などを表示: df.info()\n",
    "行数を取得: len(df)\n",
    "列数を取得: len(df.columns)\n",
    "行数・列数を取得: df.shape\n",
    "全要素数（サイズ）を取得: df.size\n",
    "pandas.Series\n",
    "全要素数（サイズ）を取得: len(s), s.size\n",
    "```"
   ]
  },
  {
   "cell_type": "code",
   "execution_count": 3,
   "metadata": {},
   "outputs": [
    {
     "name": "stdout",
     "output_type": "stream",
     "text": [
      "<class 'pandas.core.frame.DataFrame'>\n",
      "RangeIndex: 70 entries, 0 to 69\n",
      "Data columns (total 6 columns):\n",
      "yyyymm    70 non-null int64\n",
      "var1      70 non-null float64\n",
      "var2      70 non-null float64\n",
      "var3      70 non-null float64\n",
      "var4      70 non-null float64\n",
      "var5      70 non-null float64\n",
      "dtypes: float64(5), int64(1)\n",
      "memory usage: 3.4 KB\n"
     ]
    }
   ],
   "source": [
    "data.info() #行数， 列数, 型"
   ]
  },
  {
   "cell_type": "code",
   "execution_count": 6,
   "metadata": {},
   "outputs": [
    {
     "data": {
      "text/plain": [
       "(70, 6)"
      ]
     },
     "execution_count": 6,
     "metadata": {},
     "output_type": "execute_result"
    }
   ],
   "source": [
    "data.shape #(行数, 列数)"
   ]
  },
  {
   "cell_type": "code",
   "execution_count": 9,
   "metadata": {},
   "outputs": [
    {
     "data": {
      "text/plain": [
       "420"
      ]
     },
     "execution_count": 9,
     "metadata": {},
     "output_type": "execute_result"
    }
   ],
   "source": [
    "data.size #要素数"
   ]
  },
  {
   "cell_type": "markdown",
   "metadata": {},
   "source": [
    "## Lasso is なに\n",
    "cf. https://qiita.com/kento1109/items/0017068b61fd083efc75  \n",
    "\n",
    "**Lasso** (least absolute shrinkage and selection operator)  \n",
    "\n",
    "そもそも正則化とは過学習を抑える手法である．  \n",
    "線形回帰モデルの予測値 $y$ を集合行列 $X$ ，パラメータ $a$ を与えることを表すと以下式．  \n",
    "\n",
    "$$y = Xa$$  \n",
    "\n",
    "**shrinkage** は縮小，減少の意味．  \n",
    "つまり正則化そもの自体は次元圧縮（変数aaのうちできるだけ少ない変数を使ってyを予測）が目的である.  "
   ]
  },
  {
   "cell_type": "markdown",
   "metadata": {},
   "source": [
    "正則化をしない場合はパラメータ $a$ を最小化問題として扱うため,以下のように最小二乗和で計算する．  \n",
    "\n",
    "$$min_a∥y−Xa∥^2$$  \n",
    "\n",
    "ただし，闇雲に誤差ばかり最小化すると多くの機械学習の本にも書いてあるように過学習(overfitting)に陥る恐れがある.  \n",
    "そこで考えられた手法が正則化となる．  "
   ]
  },
  {
   "cell_type": "markdown",
   "metadata": {},
   "source": [
    "つまりLasso回帰は,不要なパラメータを削る(次元,特徴量削減)L1正則化と呼ばれる．  "
   ]
  },
  {
   "cell_type": "markdown",
   "metadata": {},
   "source": [
    "## 正則化は１つではない\n",
    "L1正則化と呼ぶというこは，当然L2もある.  \n",
    "L2正則化回帰は **Ridge回帰** を指している．  こちらは,滑らかモデルを得やすいとされる．  \n",
    "参考書や[PRML本](https://www.amazon.co.jp/dp/4621061224/ref=cm_sw_r_tw_dp_U_x_GqnfCb7AV1GTK)ではよくL2の名前で登場する.  \n",
    "L1とL2の正則化項は単純な線形和で表せるため，両方を混ぜた **Elastic net正則化** という手法もある．"
   ]
  },
  {
   "cell_type": "code",
   "execution_count": null,
   "metadata": {
    "collapsed": true
   },
   "outputs": [],
   "source": []
  }
 ],
 "metadata": {
  "kernelspec": {
   "display_name": "Python 3",
   "language": "python",
   "name": "python3"
  },
  "language_info": {
   "codemirror_mode": {
    "name": "ipython",
    "version": 3
   },
   "file_extension": ".py",
   "mimetype": "text/x-python",
   "name": "python",
   "nbconvert_exporter": "python",
   "pygments_lexer": "ipython3",
   "version": "3.6.3"
  }
 },
 "nbformat": 4,
 "nbformat_minor": 2
}
